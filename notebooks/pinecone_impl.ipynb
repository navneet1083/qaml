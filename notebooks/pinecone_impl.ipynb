{
 "cells": [
  {
   "cell_type": "code",
   "execution_count": null,
   "metadata": {
    "collapsed": true,
    "id": "ZW4TvCW4oLBs"
   },
   "outputs": [],
   "source": []
  },
  {
   "cell_type": "markdown",
   "source": [
    "### Setting up environment on Google-colab to run notebooks"
   ],
   "metadata": {
    "id": "fA6qE19-oNMW"
   }
  },
  {
   "cell_type": "code",
   "source": [
    "from google.colab import drive\n",
    "\n",
    "drive.mount('/content/drive', force_remount=True)\n",
    "\n",
    "# Changing working directory\n",
    "import os\n",
    "\n",
    "os.chdir('/content/drive/My Drive/QA-tasks-ML/github_codes/qaml/notebooks')"
   ],
   "metadata": {
    "colab": {
     "base_uri": "https://localhost:8080/"
    },
    "id": "H6Lui3nBoSSt",
    "executionInfo": {
     "status": "ok",
     "timestamp": 1689493135930,
     "user_tz": -330,
     "elapsed": 18189,
     "user": {
      "displayName": "Navneet Navneet",
      "userId": "00085410790485193083"
     }
    },
    "outputId": "88a29970-33ce-4ddb-e22b-62083e9b410a"
   },
   "execution_count": 1,
   "outputs": [
    {
     "output_type": "stream",
     "name": "stdout",
     "text": [
      "Mounted at /content/drive\n"
     ]
    }
   ]
  },
  {
   "cell_type": "code",
   "source": [
    "!ls ../"
   ],
   "metadata": {
    "colab": {
     "base_uri": "https://localhost:8080/"
    },
    "id": "X0yBhFMIotYb",
    "executionInfo": {
     "status": "ok",
     "timestamp": 1689493162696,
     "user_tz": -330,
     "elapsed": 5,
     "user": {
      "displayName": "Navneet Navneet",
      "userId": "00085410790485193083"
     }
    },
    "outputId": "0527dba4-0a00-489b-8510-1b59be1a6d32"
   },
   "execution_count": 4,
   "outputs": [
    {
     "output_type": "stream",
     "name": "stdout",
     "text": [
      "LICENSE  main.py  notebooks  __pycache__  README.md  resources\twriteup.md\n"
     ]
    }
   ]
  },
  {
   "cell_type": "code",
   "source": [],
   "metadata": {
    "id": "XSc7AXD6o3wk",
    "executionInfo": {
     "status": "ok",
     "timestamp": 1689493166184,
     "user_tz": -330,
     "elapsed": 349,
     "user": {
      "displayName": "Navneet Navneet",
      "userId": "00085410790485193083"
     }
    }
   },
   "execution_count": 4,
   "outputs": []
  },
  {
   "cell_type": "markdown",
   "source": [
    "## Now read some file for fine-tuning model"
   ],
   "metadata": {
    "id": "RXmok7pto-Qd"
   }
  },
  {
   "cell_type": "code",
   "source": [
    "import pandas as pd"
   ],
   "metadata": {
    "id": "gEdvqWycpZ60",
    "executionInfo": {
     "status": "ok",
     "timestamp": 1689493288698,
     "user_tz": -330,
     "elapsed": 576,
     "user": {
      "displayName": "Navneet Navneet",
      "userId": "00085410790485193083"
     }
    }
   },
   "execution_count": 6,
   "outputs": []
  },
  {
   "cell_type": "code",
   "source": [
    "pan_card_kd = f'../resources/KnowledgeDocument(pan_card_services).txt'\n",
    "\n"
   ],
   "metadata": {
    "colab": {
     "base_uri": "https://localhost:8080/"
    },
    "id": "deRiAq2Wo5pv",
    "executionInfo": {
     "status": "ok",
     "timestamp": 1689493202545,
     "user_tz": -330,
     "elapsed": 8,
     "user": {
      "displayName": "Navneet Navneet",
      "userId": "00085410790485193083"
     }
    },
    "outputId": "7d7a1c4e-7df5-4c0a-84bc-0b4ec1f1a162"
   },
   "execution_count": 5,
   "outputs": [
    {
     "output_type": "stream",
     "name": "stdout",
     "text": [
      "'KnowledgeDocument(pan_card_services).txt'   WriteupTemplate.docx\n",
      " SampleQuestions.xlsx\n"
     ]
    }
   ]
  },
  {
   "cell_type": "code",
   "source": [],
   "metadata": {
    "id": "JVMjo5Y4pGEO"
   },
   "execution_count": null,
   "outputs": []
  }
 ],
 "metadata": {
  "kernelspec": {
   "display_name": "Python 3",
   "language": "python",
   "name": "python3"
  },
  "language_info": {
   "codemirror_mode": {
    "name": "ipython",
    "version": 2
   },
   "file_extension": ".py",
   "mimetype": "text/x-python",
   "name": "python",
   "nbconvert_exporter": "python",
   "pygments_lexer": "ipython2",
   "version": "2.7.6"
  },
  "colab": {
   "provenance": []
  }
 },
 "nbformat": 4,
 "nbformat_minor": 0
}
